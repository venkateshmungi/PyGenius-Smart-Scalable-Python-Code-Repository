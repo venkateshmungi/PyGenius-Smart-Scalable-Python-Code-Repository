{
 "cells": [
  {
   "cell_type": "markdown",
   "id": "d0009900-6f9e-4d9b-8d80-908138488e4f",
   "metadata": {},
   "source": [
    "<div class=\"alert alert-block alert-danger\" style=\"background-color: #005792;\">\n",
    "    <span style=\"font-size:150%; color: #fcfefe;\"><b><center>Python code to check given String or Number a Palindrome</b></center></span> \n",
    "</div>"
   ]
  },
  {
   "cell_type": "markdown",
   "id": "37903c6d-827a-4572-a317-ce4d2d2ddbff",
   "metadata": {},
   "source": [
    "A palindrome is a word, phrase, or sequence that reads the same forward and backward (ignoring spaces, punctuation, and case differences)."
   ]
  },
  {
   "cell_type": "markdown",
   "id": "98074d9c-73fe-4edc-bd87-dad344b6746e",
   "metadata": {},
   "source": [
    "<p style=\"background:light #5c5470\">\n",
    "<code style=\"background:#5c5470;color:white\"><b>Palindrome Using String reversing</code></p>"
   ]
  },
  {
   "cell_type": "code",
   "execution_count": 1,
   "id": "99d35068-fd18-4c1e-8a14-2fd2de71b2b3",
   "metadata": {},
   "outputs": [
    {
     "name": "stdout",
     "output_type": "stream",
     "text": [
      "True\n"
     ]
    }
   ],
   "source": [
    "def is_palindriome(s : str) -> bool:\n",
    "    cleaned_s = \"\".join(c.lower() for c in s if c.isalnum())\n",
    "    return cleaned_s == cleaned_s[::- 1]\n",
    "print(is_palindriome(\"Civic\"))"
   ]
  },
  {
   "cell_type": "markdown",
   "id": "b45b0899-e693-4c8d-8a99-3fa7e617edc7",
   "metadata": {},
   "source": [
    "<p style=\"background:light #5c5470\">\n",
    "<code style=\"background:#5c5470;color:white\"><b>Function to efficiently checks both numbers and strings for palindromes!</code></p>"
   ]
  },
  {
   "cell_type": "code",
   "execution_count": 2,
   "id": "9779e9d6-77bc-4a9a-b6fc-eef212655792",
   "metadata": {},
   "outputs": [],
   "source": [
    "def is_palin(item):\n",
    "    if isinstance(item, int) and (item < 0 or (item % 10 == 0 and item !=0)):\n",
    "        return \"Not a Palindrome\"\n",
    "    s = str(item).lower() if isinstance(item, str) else str(item)\n",
    "    s = \"\".join(c for c in s if c.isalnum())\n",
    "    return \"Palindrome\" if s == s[::-1] else \"Not a Palindrome\""
   ]
  },
  {
   "cell_type": "code",
   "execution_count": 3,
   "id": "c6985870-da3a-4d61-881d-3cb368a154e3",
   "metadata": {},
   "outputs": [
    {
     "name": "stdout",
     "output_type": "stream",
     "text": [
      "Palindrome\n",
      "Not a Palindrome\n",
      "Not a Palindrome\n",
      "Palindrome\n",
      "Not a Palindrome\n",
      "Palindrome\n"
     ]
    }
   ],
   "source": [
    "print(is_palin(121))  # Palindrome\n",
    "print(is_palin(-121))  # Not a palindrome\n",
    "print(is_palin(10))  # Not a palindrome\n",
    "print(is_palin(\"racecar\"))  # Palindrome\n",
    "print(is_palin(\"hello\"))  # Not a palindrome\n",
    "print(is_palin(\"A man, a plan, a canal: Panama\"))  # Palindrome"
   ]
  },
  {
   "cell_type": "code",
   "execution_count": 4,
   "id": "c5aecad6-6a29-4429-ae90-05079875f85b",
   "metadata": {},
   "outputs": [],
   "source": [
    "def is_palin(item):\n",
    "    # Check if input is an integer\n",
    "    if isinstance(item, int):\n",
    "        if item < 0 or (item % 10 == 0 and item != 0):\n",
    "            return \"Not a palindrome\"\n",
    "        return \"Palindrome\" if str(item) == str(item)[::-1] else \"Not a palindrome\"\n",
    "\n",
    "    # Check if input is a string\n",
    "    elif isinstance(item, str):\n",
    "        cleaned_item = \"\".join(c.lower() for c in item if c.isalnum())  # Remove spaces & special chars\n",
    "        return \"Palindrome\" if cleaned_item == cleaned_item[::-1] else \"Not a palindrome\"\n",
    "\n",
    "    else:\n",
    "        return \"Invalid input\""
   ]
  },
  {
   "cell_type": "code",
   "execution_count": 5,
   "id": "0ff62651-4ab6-4c4e-ae19-fa690f62bfa8",
   "metadata": {},
   "outputs": [
    {
     "name": "stdout",
     "output_type": "stream",
     "text": [
      "Palindrome\n",
      "Not a palindrome\n",
      "Not a palindrome\n",
      "Palindrome\n",
      "Not a palindrome\n",
      "Palindrome\n"
     ]
    }
   ],
   "source": [
    "# Test cases\n",
    "print(is_palin(121))             # Palindrome\n",
    "print(is_palin(-121))            # Not a palindrome\n",
    "print(is_palin(10))              # Not a palindrome\n",
    "print(is_palin(\"racecar\"))       # Palindrome\n",
    "print(is_palin(\"hello\"))         # Not a palindrome\n",
    "print(is_palin(\"A man, a plan, a canal: Panama\"))  # Palindrome"
   ]
  },
  {
   "cell_type": "markdown",
   "id": "076d37b8-8828-4631-aada-9d7d0156713e",
   "metadata": {},
   "source": [
    "<p style=\"background:light #5c5470\">\n",
    "<code style=\"background:#5c5470;color:white\"><b>Palindrome Check Using an Iterative Two-Pointer Approach</code></p>"
   ]
  },
  {
   "cell_type": "markdown",
   "id": "d5f9cfbe-3de4-4c7d-b4e5-e2d0a25a2778",
   "metadata": {},
   "source": [
    "This method uses two pointers—one at the beginning and one at the end—to compare characters.\n",
    "\n",
    "More efficient than reversing the entire string.\n",
    "\n",
    "Uses O(n) time complexity and O(1) extra space."
   ]
  },
  {
   "cell_type": "code",
   "execution_count": 6,
   "id": "250bce90-30fe-4af9-bc5b-2f88eb0ea635",
   "metadata": {},
   "outputs": [],
   "source": [
    "def is_palindrome(s: str) -> bool:\n",
    "    cleaned_s = \"\".join(c.lower() for c in s if c.isalnum())  # Clean the string\n",
    "    left, right = 0, len(cleaned_s) - 1\n",
    "\n",
    "    while left < right:\n",
    "        if cleaned_s[left] != cleaned_s[right]:\n",
    "            return False\n",
    "        left += 1\n",
    "        right -= 1\n",
    "\n",
    "    return True"
   ]
  },
  {
   "cell_type": "code",
   "execution_count": 7,
   "id": "aa9b04aa-b604-49e3-92d2-ec510377074a",
   "metadata": {},
   "outputs": [
    {
     "data": {
      "text/plain": [
       "True"
      ]
     },
     "execution_count": 7,
     "metadata": {},
     "output_type": "execute_result"
    }
   ],
   "source": [
    "is_palindrome(\"Star? Come, Donna Melba, I'm an amiable man -- no Democrats!\")"
   ]
  },
  {
   "cell_type": "markdown",
   "id": "b2e641c7-154d-44e8-a917-22d4e843f4e0",
   "metadata": {},
   "source": [
    "<p style=\"background:light #5c5470\">\n",
    "<code style=\"background:#5c5470;color:white\"><b>Palindrome Check Using the filter() Function</code></p>"
   ]
  },
  {
   "cell_type": "code",
   "execution_count": 8,
   "id": "bf10c731-420a-41f9-9713-a3696bcd6080",
   "metadata": {},
   "outputs": [],
   "source": [
    "def is_palindrome(s: str) -> bool:\n",
    "    cleaned_s = \"\".join(filter(str.isalnum, s)).lower()\n",
    "    return cleaned_s == cleaned_s[::-1]"
   ]
  },
  {
   "cell_type": "markdown",
   "id": "8f8ecdd9-defa-439f-98b6-313964959b79",
   "metadata": {},
   "source": [
    "Why use this?\n",
    "\n",
    "filter(str.isalnum, s) directly removes unwanted characters.\n",
    "Slightly more readable than list comprehension."
   ]
  },
  {
   "cell_type": "code",
   "execution_count": 9,
   "id": "5cd056fc-6a0e-4c2c-88d1-d27e6e618c2c",
   "metadata": {},
   "outputs": [
    {
     "data": {
      "text/plain": [
       "True"
      ]
     },
     "execution_count": 9,
     "metadata": {},
     "output_type": "execute_result"
    }
   ],
   "source": [
    "is_palindrome(\"noon\")"
   ]
  },
  {
   "cell_type": "markdown",
   "id": "461d8aa7-6c99-4727-928d-f21b362b8ea3",
   "metadata": {},
   "source": [
    "<p style=\"background:light #5c5470\">\n",
    "<code style=\"background:#5c5470;color:white\"><b>Palindrome Check Using Recursion</code></p>"
   ]
  },
  {
   "cell_type": "code",
   "execution_count": 10,
   "id": "8a737f3a-28fc-4828-b57a-30dc0e2690ea",
   "metadata": {},
   "outputs": [],
   "source": [
    "def is_palindrome(s: str) -> bool:\n",
    "    cleaned_s = \"\".join(c.lower() for c in s if c.isalnum())  # Clean string\n",
    "    \n",
    "    def check(left: int, right: int) -> bool:\n",
    "        if left >= right:\n",
    "            return True\n",
    "        if cleaned_s[left] != cleaned_s[right]:\n",
    "            return False\n",
    "        return check(left + 1, right - 1)\n",
    "\n",
    "    return check(0, len(cleaned_s) - 1)"
   ]
  },
  {
   "cell_type": "markdown",
   "id": "84ae32dc-1f4c-4119-960e-45eefb804b38",
   "metadata": {},
   "source": [
    "Why use this?\n",
    "\n",
    "Uses recursion instead of a loop.\n",
    "Conceptually elegant but can hit recursion limits for long strings."
   ]
  },
  {
   "cell_type": "code",
   "execution_count": 11,
   "id": "4e3269e8-a85c-4e98-9232-f0bf2ea799f0",
   "metadata": {},
   "outputs": [
    {
     "data": {
      "text/plain": [
       "False"
      ]
     },
     "execution_count": 11,
     "metadata": {},
     "output_type": "execute_result"
    }
   ],
   "source": [
    "is_palindrome(\"vikatakavi\")"
   ]
  },
  {
   "cell_type": "code",
   "execution_count": 12,
   "id": "2d877934-7717-4557-9cbd-f5b7c744683b",
   "metadata": {},
   "outputs": [
    {
     "data": {
      "text/plain": [
       "True"
      ]
     },
     "execution_count": 12,
     "metadata": {},
     "output_type": "execute_result"
    }
   ],
   "source": [
    "is_palindrome(\"Able was I ere I saw Elba\")"
   ]
  },
  {
   "cell_type": "markdown",
   "id": "079f0c7f-beff-4f84-8097-acd363a93704",
   "metadata": {},
   "source": [
    "<p style=\"background:light #5c5470\">\n",
    "<code style=\"background:#5c5470;color:white\"><b>Palindrome Check Using Regular Expressions (re module)</code></p>"
   ]
  },
  {
   "cell_type": "code",
   "execution_count": 13,
   "id": "27ba93cf-c0a8-412b-9359-e192f99237dd",
   "metadata": {},
   "outputs": [],
   "source": [
    "import re\n",
    "\n",
    "def is_palindrome(s: str) -> bool:\n",
    "    cleaned_s = re.sub(r'[^a-zA-Z0-9]', '', s).lower()\n",
    "    return cleaned_s == cleaned_s[::-1]"
   ]
  },
  {
   "cell_type": "markdown",
   "id": "6204e2b5-f027-4eaf-b734-03f0814fe745",
   "metadata": {},
   "source": [
    "re.sub(r'[^a-zA-Z0-9]', '', s) removes unwanted characters.\n",
    "\n",
    "Can be faster for large inputs due to efficient regex processing."
   ]
  },
  {
   "cell_type": "code",
   "execution_count": 14,
   "id": "5b3fda31-e00d-4d29-b75a-d4e3781a4c79",
   "metadata": {},
   "outputs": [
    {
     "data": {
      "text/plain": [
       "True"
      ]
     },
     "execution_count": 14,
     "metadata": {},
     "output_type": "execute_result"
    }
   ],
   "source": [
    "is_palindrome(\"Too far away, no mere clay or royal ceremony, a war afoot.\")"
   ]
  },
  {
   "cell_type": "markdown",
   "id": "c515901d-33ac-431a-bb40-7e57459bdc52",
   "metadata": {},
   "source": [
    "<p style=\"background:light #5c5470\">\n",
    "<code style=\"background:#5c5470;color:white\"><b>Palindrome Check Using Deque (collections.deque)</code></p>"
   ]
  },
  {
   "cell_type": "code",
   "execution_count": 15,
   "id": "d36e6012-259d-4f53-8fe5-d81c2276a16a",
   "metadata": {},
   "outputs": [],
   "source": [
    "from collections import deque\n",
    "\n",
    "def is_palindrome(s: str) -> bool:\n",
    "    cleaned_s = deque(c.lower() for c in s if c.isalnum())\n",
    "\n",
    "    while len(cleaned_s) > 1:\n",
    "        if cleaned_s.popleft() != cleaned_s.pop():\n",
    "            return False\n",
    "\n",
    "    return True"
   ]
  },
  {
   "cell_type": "markdown",
   "id": "36cbc551-5f05-4e64-bdd9-af60c09bdea7",
   "metadata": {},
   "source": [
    "deque.popleft() and deque.pop() are O(1) operations, making this efficient."
   ]
  },
  {
   "cell_type": "code",
   "execution_count": 16,
   "id": "5730dbe2-e394-40ad-851c-15c71189f439",
   "metadata": {},
   "outputs": [
    {
     "data": {
      "text/plain": [
       "True"
      ]
     },
     "execution_count": 16,
     "metadata": {},
     "output_type": "execute_result"
    }
   ],
   "source": [
    "is_palindrome(\"See, slave, I demonstrate yet arts no medieval sees.\")"
   ]
  },
  {
   "cell_type": "markdown",
   "id": "1e5fde52-1147-434a-875a-a0311c299728",
   "metadata": {},
   "source": [
    "<p style=\"background:light #5c5470\">\n",
    "<code style=\"background:#5c5470;color:white\"><b>Palindrome Check by Convert Number to String and Reverse</code></p>"
   ]
  },
  {
   "cell_type": "code",
   "execution_count": 17,
   "id": "32820937-b6c1-4fff-bb5c-1b0e9296ea31",
   "metadata": {},
   "outputs": [],
   "source": [
    "def is_palindrome_number(n: int) -> bool:\n",
    "    return str(n) == str(n)[::-1]"
   ]
  },
  {
   "cell_type": "code",
   "execution_count": 18,
   "id": "2ba58ed5-9155-4dd5-82af-a0ad1c60e554",
   "metadata": {},
   "outputs": [
    {
     "name": "stdout",
     "output_type": "stream",
     "text": [
      "True\n",
      "False\n",
      "False\n"
     ]
    }
   ],
   "source": [
    "# Test cases\n",
    "print(is_palindrome_number(121))   # True\n",
    "print(is_palindrome_number(-121))  # False (negative numbers aren't palindromes)\n",
    "print(is_palindrome_number(123))   # False"
   ]
  },
  {
   "cell_type": "markdown",
   "id": "5aa28289-068e-4f4b-94bb-b0f12dd0f4f8",
   "metadata": {},
   "source": [
    "<p style=\"background:light #5c5470\">\n",
    "<code style=\"background:#5c5470;color:white\"><b>Palindrome Check by Reverse the Number Mathematically</code></p>"
   ]
  },
  {
   "cell_type": "code",
   "execution_count": 19,
   "id": "c4ea18cb-e92d-43c4-8cd5-1a4f5de96ae9",
   "metadata": {},
   "outputs": [],
   "source": [
    "def is_palindrome_number(n: int) -> bool:\n",
    "    if n < 0 or (n % 10 == 0 and n != 0):  \n",
    "        return False  # Negative numbers and multiples of 10 (except 0) are not palindromes\n",
    "\n",
    "    reversed_num = 0\n",
    "    original_n = n\n",
    "\n",
    "    while n > 0:\n",
    "        digit = n % 10\n",
    "        reversed_num = reversed_num * 10 + digit\n",
    "        n //= 10\n",
    "\n",
    "    return original_n == reversed_num"
   ]
  },
  {
   "cell_type": "code",
   "execution_count": 20,
   "id": "1487e8eb-f076-4abf-89f3-1920a8804a46",
   "metadata": {},
   "outputs": [
    {
     "name": "stdout",
     "output_type": "stream",
     "text": [
      "True\n",
      "False\n",
      "False\n"
     ]
    }
   ],
   "source": [
    "# Test cases\n",
    "print(is_palindrome_number(121))   # True\n",
    "print(is_palindrome_number(-121))  # False\n",
    "print(is_palindrome_number(10))    # False"
   ]
  },
  {
   "cell_type": "markdown",
   "id": "2b4894a7-429b-47f0-9d8d-12523111a9db",
   "metadata": {},
   "source": [
    "Handle negatives & numbers ending in 0 (except 0 itself) → Return False.\n",
    "    \n",
    "Reverse the number mathematically:\n",
    "\n",
    "Extract the last digit using n % 10.\n",
    "\n",
    "Add it to reversed_num after shifting.\n",
    "    \n",
    "Remove the last digit using n //= 10.\n",
    "\n",
    "Compare the original and reversed numbers."
   ]
  },
  {
   "cell_type": "markdown",
   "id": "baec5171-01bb-4c77-a7bd-19e41591ac3a",
   "metadata": {},
   "source": [
    "<p style=\"background:light #5c5470\">\n",
    "<code style=\"background:#5c5470;color:white\"><b>Palindrome Check by Reverse Only Half of the Number (Optimized)</code></p>"
   ]
  },
  {
   "cell_type": "code",
   "execution_count": 21,
   "id": "9ed54e17-4ec0-4d6d-af15-606d8831a8ee",
   "metadata": {},
   "outputs": [],
   "source": [
    "def is_palindrome_number(n: int) -> bool:\n",
    "    if n < 0 or (n % 10 == 0 and n != 0):  \n",
    "        return False  # Negative numbers and numbers ending in 0 (except 0) are not palindromes\n",
    "\n",
    "    reversed_half = 0\n",
    "    while n > reversed_half:\n",
    "        reversed_half = reversed_half * 10 + n % 10\n",
    "        n //= 10  # Reduce the original number\n",
    "\n",
    "    return n == reversed_half or n == reversed_half // 10"
   ]
  },
  {
   "cell_type": "code",
   "execution_count": 22,
   "id": "5b6317c1-993f-4b10-95c2-7a3ead3421cf",
   "metadata": {},
   "outputs": [
    {
     "name": "stdout",
     "output_type": "stream",
     "text": [
      "True\n",
      "True\n",
      "False\n",
      "False\n"
     ]
    }
   ],
   "source": [
    "# Test cases\n",
    "print(is_palindrome_number(1221))  # True\n",
    "print(is_palindrome_number(121))   # True\n",
    "print(is_palindrome_number(123))   # False\n",
    "print(is_palindrome_number(10))    # False"
   ]
  },
  {
   "cell_type": "markdown",
   "id": "8b4fd7a9-f907-4dd9-b1a2-c950d027145b",
   "metadata": {},
   "source": [
    "Instead of reversing the entire number, we reverse only half.\n",
    "    \n",
    "When n becomes smaller than or equal to reversed_half, we stop.\n",
    "\n",
    "If the number has an odd number of digits, reversed_half // 10 removes the middle digit."
   ]
  },
  {
   "cell_type": "code",
   "execution_count": null,
   "id": "78a2d9cc-3ac7-4285-8d85-f3badc2c6a1e",
   "metadata": {},
   "outputs": [],
   "source": []
  }
 ],
 "metadata": {
  "kernelspec": {
   "display_name": "Python 3 (ipykernel)",
   "language": "python",
   "name": "python3"
  },
  "language_info": {
   "codemirror_mode": {
    "name": "ipython",
    "version": 3
   },
   "file_extension": ".py",
   "mimetype": "text/x-python",
   "name": "python",
   "nbconvert_exporter": "python",
   "pygments_lexer": "ipython3",
   "version": "3.11.8"
  }
 },
 "nbformat": 4,
 "nbformat_minor": 5
}
