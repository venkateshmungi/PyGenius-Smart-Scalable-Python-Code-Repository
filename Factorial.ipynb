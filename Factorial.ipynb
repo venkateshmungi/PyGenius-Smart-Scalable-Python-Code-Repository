{
 "cells": [
  {
   "cell_type": "markdown",
   "id": "395a80c9-80ae-4fcf-90d5-558a5b50a4b9",
   "metadata": {},
   "source": [
    "<div class=\"alert alert-block alert-danger\" style=\"background-color: #005792;\">\n",
    "    <span style=\"font-size:150%; color: #fcfefe;\"><b><center>Python script to calculate Factorial of given Number</b></center></span> \n",
    "</div>"
   ]
  },
  {
   "cell_type": "markdown",
   "id": "03ce1e6c-805b-4d2c-ae1b-0dd766b83143",
   "metadata": {},
   "source": [
    "### What is Factorial?\n",
    "\n",
    "In Mathematics, factorial is a simple thing. Factorials are just products. An exclamation mark indicates the factorial. Factorial is a multiplication operation of natural numbers with all the natural numbers that are less than it. \n",
    "\n",
    "### Factorial Notation\n",
    "\n",
    "The multiplication of all positive integers, say “n”, that will be smaller than or equivalent to n is known as the factorial. The factorial of a positive integer is represented by the symbol “n!”.\n",
    "\n",
    "### Factorial Formula\n",
    "\n",
    "The formula to find the factorial of a number is\n",
    "\n",
    "n! = n × (n-1) × (n-2) × (n-3) × ….× 3 × 2 × 1"
   ]
  },
  {
   "cell_type": "markdown",
   "id": "5f428d8c-9296-4394-b816-d680dbc33319",
   "metadata": {},
   "source": [
    "<p style=\"background:light #ff847c\">\n",
    "<code style=\"background:#ff847c;color:black\"><b>Iterative Method</code></p>"
   ]
  },
  {
   "cell_type": "code",
   "execution_count": 1,
   "id": "cd507da0-3fdb-47b5-911f-8690cfb23657",
   "metadata": {},
   "outputs": [],
   "source": [
    "import math\n",
    "\n",
    "def factorial_iterative(n):\n",
    "    \"\"\"Calculates factorial using an iterative approach.\"\"\"\n",
    "    result = 1\n",
    "    for i in range(2, n + 1):\n",
    "        result *= i\n",
    "    return result"
   ]
  },
  {
   "cell_type": "code",
   "execution_count": 2,
   "id": "890fbd46-88ca-44fb-a1ca-7c79b8ae7e08",
   "metadata": {},
   "outputs": [
    {
     "name": "stdout",
     "output_type": "stream",
     "text": [
      "Factorial of a given number is: 3628800\n"
     ]
    }
   ],
   "source": [
    "print(\"Factorial of a given number is:\",factorial_iterative(10))"
   ]
  },
  {
   "cell_type": "markdown",
   "id": "63a73288-d17d-4c28-9d4d-d97f360bb798",
   "metadata": {},
   "source": [
    "Step-by-Step Explanation of factorial_iterative(n)\n",
    "\n",
    "1️⃣ Start with result = 1 → This variable will store the final factorial value.\n",
    "\n",
    "2️⃣ Loop from 2 to n → Multiply result by each number in this range.\n",
    "\n",
    "3️⃣ Update result in each iteration → Keep multiplying the current value with the next number.\n",
    "\n",
    "4️⃣ Return the final result → After the loop, result holds n!."
   ]
  },
  {
   "cell_type": "markdown",
   "id": "b7254ed9-5199-48f6-bf91-54a3887cc1d3",
   "metadata": {},
   "source": [
    "<p style=\"background:light #ff847c\">\n",
    "<code style=\"background:#ff847c;color:black\"><b>Recursive Method</code></p>"
   ]
  },
  {
   "cell_type": "code",
   "execution_count": 3,
   "id": "d911caa7-d302-40ca-8e7d-20a3db292260",
   "metadata": {},
   "outputs": [],
   "source": [
    "def factorial_recursive(n):\n",
    "    \"\"\"Calculates factorial using recursion.\"\"\"\n",
    "    if n == 0 or n == 1:\n",
    "        return 1\n",
    "    return n * factorial_recursive(n - 1)"
   ]
  },
  {
   "cell_type": "code",
   "execution_count": 4,
   "id": "5000aed5-c14e-4063-ad60-367530dd978f",
   "metadata": {},
   "outputs": [
    {
     "name": "stdout",
     "output_type": "stream",
     "text": [
      "Factorial of a given number is: 40320\n"
     ]
    }
   ],
   "source": [
    "print(\"Factorial of a given number is:\",factorial_recursive(8))"
   ]
  },
  {
   "cell_type": "markdown",
   "id": "b83c5e5a-5aaa-4c1d-afb8-7df3b7a5a456",
   "metadata": {},
   "source": [
    "Step-by-Step Explanation of factorial_recursive(n)\n",
    "\n",
    "1️⃣ Base Case: If n == 0 or n == 1, return 1.\n",
    "\n",
    "This stops the recursion (since 0! = 1! = 1).\n",
    "\n",
    "2️⃣ Recursive Case: Otherwise, return n * factorial_recursive(n - 1).\n",
    "\n",
    "This keeps calling itself with n-1 until it reaches the base case.\n",
    "\n",
    "Great for small numbers (n < 1000).\n",
    "\n",
    "Avoid for very large n (use iterative or math.factorial(n))."
   ]
  },
  {
   "cell_type": "markdown",
   "id": "d4d2d778-2e30-44d4-bf4e-047e53909f6e",
   "metadata": {},
   "source": [
    "<p style=\"background:light #ff847c\">\n",
    "<code style=\"background:#ff847c;color:black\"><b>Using math.factorial()</code></p>"
   ]
  },
  {
   "cell_type": "code",
   "execution_count": 5,
   "id": "ac3d3919-47df-48c4-b909-11a3b3ee6d97",
   "metadata": {},
   "outputs": [],
   "source": [
    "def factorial_math(n):\n",
    "    \"\"\"Calculates factorial using Python's math module.\"\"\"\n",
    "    return math.factorial(n)"
   ]
  },
  {
   "cell_type": "code",
   "execution_count": 6,
   "id": "4925ce59-cb8c-4ed1-8237-424f8295077b",
   "metadata": {},
   "outputs": [
    {
     "name": "stdout",
     "output_type": "stream",
     "text": [
      "Factorial of a given number is: 362880\n"
     ]
    }
   ],
   "source": [
    "print(\"Factorial of a given number is:\",factorial_math(9))"
   ]
  },
  {
   "cell_type": "markdown",
   "id": "70a3a698-2ec8-4878-b7cb-62c4e023f766",
   "metadata": {},
   "source": [
    "### Analyze each approach for computing factorials of large numbers"
   ]
  },
  {
   "cell_type": "markdown",
   "id": "441d9988-9a04-4c00-8eb7-4fb75de5801f",
   "metadata": {},
   "source": [
    "##### 1. Iterative Method (Efficient for Large Numbers)\n",
    "\n",
    "It avoids function call overhead.\n",
    "    \n",
    "Can compute large factorials without recursion depth issues.\n",
    "    \n",
    "Memory usage is minimal, only requiring a single variable to store the result.\n",
    "    \n",
    "##### 2. Recursive Method (Limited by Recursion Depth)\n",
    "    \n",
    "Python's default recursion limit is around 1000 (sys.getrecursionlimit()).\n",
    "\n",
    "Factorial growth is exponential, so factorial_recursive(1000) would hit RecursionError.\n",
    "    \n",
    "You can increase recursion depth using sys.setrecursionlimit(), but it's not memory efficient.\n",
    "\n",
    "##### 3. Using math.factorial() (Optimized for Large Numbers)\n",
    "\n",
    "The math.factorial() function is implemented in C, making it highly optimized.\n",
    "    \n",
    "It’s the best choice for computing very large factorials efficiently.\n"
   ]
  },
  {
   "cell_type": "code",
   "execution_count": null,
   "id": "fabbcb12-d2d6-4ce9-b9ec-b0ec21345cb7",
   "metadata": {},
   "outputs": [],
   "source": []
  }
 ],
 "metadata": {
  "kernelspec": {
   "display_name": "Python 3 (ipykernel)",
   "language": "python",
   "name": "python3"
  },
  "language_info": {
   "codemirror_mode": {
    "name": "ipython",
    "version": 3
   },
   "file_extension": ".py",
   "mimetype": "text/x-python",
   "name": "python",
   "nbconvert_exporter": "python",
   "pygments_lexer": "ipython3",
   "version": "3.11.8"
  }
 },
 "nbformat": 4,
 "nbformat_minor": 5
}
